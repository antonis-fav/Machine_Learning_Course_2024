{
  "cells": [
    {
      "cell_type": "markdown",
      "id": "fd257296-28e9-4531-a7b4-d1b649bde7d5",
      "metadata": {
        "id": "fd257296-28e9-4531-a7b4-d1b649bde7d5"
      },
      "source": [
        "## Εργασία 2 ##\n",
        "\n",
        "Καλωσήρθατε στην δεύτερη σας εργασία. Η εργασία αυτή έχει σκοπό να σας βοηθήσει να εμπεδώσετε τα δενδρικά μοντέλα και την αξιολόγηση μοντέλων.\n",
        "\n",
        "Στην εργασία αυτή θα πρέπει να συμπληρώσετε κώδικα Python 3 στα σημεία που αναφέρουν # YOUR CODE HERE. Μην τροποποιείτε τον κώδικα που βρίσκεται εκτός αυτών των περιοχών.\n",
        "\n",
        "Πρωτού παραδόσετε την εργασία σας σιγουρευτείτε ότι ο κώδικας σε όλα τα κελιά τρέχει σωστά. Για το σκοπό αυτό επιλέξτε από το μενού Χρόνος εκτέλεσης (runtime) -> Επανεκίνηση περιόδου λειτουργίας και εκτέλεση όλων.\n",
        "\n",
        "Συμπληρώστε το όνομα (NAME) και το AEM σας παρακάτω:"
      ]
    },
    {
      "cell_type": "code",
      "execution_count": null,
      "id": "35943a20-7f89-4b47-961b-ac23183ff388",
      "metadata": {
        "id": "35943a20-7f89-4b47-961b-ac23183ff388"
      },
      "outputs": [],
      "source": [
        "NAME = \"Enter your Name here\"\n",
        "AEM = \"Enter your AEM here\""
      ]
    },
    {
      "cell_type": "markdown",
      "id": "b49cbc73-afc6-4141-bb46-21a63ebc415b",
      "metadata": {
        "id": "b49cbc73-afc6-4141-bb46-21a63ebc415b"
      },
      "source": [
        "**1** Διαβάστε το διαθέσιμο από την sklearn σύνολο δεδομένων diabetes που αφορά την πρόβλεψη της πορείας που θα έχει ένας ασθενής με διαβήτη ένα χρόνο μετά (εργασία παλινδρόμησης) και αποθηκεύστε το σε μια μεταβλητή με το όνομα diabetes. (0.5 μονάδες)"
      ]
    },
    {
      "cell_type": "code",
      "execution_count": null,
      "id": "6844af8a-e00e-4a88-9d0d-de2d3e8721c5",
      "metadata": {
        "id": "6844af8a-e00e-4a88-9d0d-de2d3e8721c5",
        "collapsed": true
      },
      "outputs": [],
      "source": [
        "# YOUR CODE HERE\n",
        "import pandas as pd\n",
        "from sklearn.datasets import load_diabetes\n",
        "diabetes = load_diabetes()\n",
        "\n",
        "# print(diabetes.data)\n",
        "# print(diabetes.target)\n",
        "# print(diabetes.target.shape)\n",
        "# print(diabetes.feature_names)\n",
        "# raise NotImplementedError()\n"
      ]
    },
    {
      "cell_type": "code",
      "execution_count": null,
      "id": "02db6594-612b-4698-ac1d-d7226c83cccd",
      "metadata": {
        "id": "02db6594-612b-4698-ac1d-d7226c83cccd"
      },
      "outputs": [],
      "source": [
        "\"\"\"Τεστ ορθής ανάγνωσης του συνόλου δεδομένων\"\"\"\n",
        "assert diabetes.feature_names == ['age', 'sex', 'bmi', 'bp', 's1', 's2', 's3', 's4', 's5', 's6']"
      ]
    },
    {
      "cell_type": "markdown",
      "id": "8768cb60-05e4-497b-900f-ae2f178074e3",
      "metadata": {
        "id": "8768cb60-05e4-497b-900f-ae2f178074e3"
      },
      "source": [
        "**2** Χωρίστε το σύνολο που διαβάσατε σε υποσύνολο ελέγχου 20% και υποσύνολο εκπαίδευσης 80% με την μέθοδο train_test_split και σπόρο τυχαιότητας 42. Aποθηκεύστε το σύνολο εκπαίδευσης σε μεταβλητές X_train, y_train και το σύνολο ελέγχου σε μεταβλητές X_test, y_test. (0.5 μονάδες)"
      ]
    },
    {
      "cell_type": "code",
      "execution_count": null,
      "id": "1df2b2e2-7c0d-42bf-b424-6ba00fae290c",
      "metadata": {
        "id": "1df2b2e2-7c0d-42bf-b424-6ba00fae290c"
      },
      "outputs": [],
      "source": [
        "# YOUR CODE HERE\n",
        "from sklearn.model_selection  import train_test_split\n",
        "\n",
        "X_train, X_test, y_train, y_test  = train_test_split(diabetes.data, diabetes.target, test_size=0.2, random_state=42)\n",
        "\n",
        "# raise NotImplementedError()"
      ]
    },
    {
      "cell_type": "code",
      "execution_count": null,
      "id": "903fd875-3dd2-4f5b-87fe-92e56dbe2878",
      "metadata": {
        "id": "903fd875-3dd2-4f5b-87fe-92e56dbe2878"
      },
      "outputs": [],
      "source": [
        "\"\"\"Τεστ ορθού διαχωρισμού του συνόλου δεδομένων\"\"\"\n",
        "assert round(X_train[0][8], 5) == 0.02736\n",
        "assert round(X_test[0][8], 5) == 0.03243"
      ]
    },
    {
      "cell_type": "markdown",
      "id": "fd192fb0-f8b0-47c6-b93a-abe4ef11281f",
      "metadata": {
        "id": "fd192fb0-f8b0-47c6-b93a-abe4ef11281f"
      },
      "source": [
        "**3** Χρησιμοποιώντας τα δεδομένα εκπαίδευσης, εκπαιδεύστε δύο δένδρα παλινδρόμησης με κριτήρια διαχωρισμού τα squared_eror και poisson ([δείτε ενότητα 1.10.7.2](https://scikit-learn.org/stable/modules/tree.html#tree)) αντίστοιχα, θέτοντας τον σπόρο τυχαιότητας στην τιμή 42 και το μέγιστο βάθος στην τιμή 3. Υπολογίστε τη μετρική r2 με βάση τις προβλέψεις τους στα δεδομένα ελέγχου, τις οποίες αποθηκεύστε στις μεταβλητές y_pred1 (squared_error) και y_pred2 (poisson) αντίστοιχα.\n",
        "Αποθηκεύστε τις μετρικές στις μεταβλητές r2_squared_error και r2_poisson αντίστοιχα. (1 μονάδα)"
      ]
    },
    {
      "cell_type": "code",
      "execution_count": null,
      "id": "33a1a5d0-6816-4fa1-8528-8dabda89858b",
      "metadata": {
        "id": "33a1a5d0-6816-4fa1-8528-8dabda89858b"
      },
      "outputs": [],
      "source": [
        "# YOUR CODE HERE\n",
        "from sklearn.tree import DecisionTreeRegressor\n",
        "from sklearn.metrics import r2_score, mean_squared_error, mean_absolute_error, mean_absolute_percentage_error\n",
        "\n",
        "\n",
        "tree_clf_sq = DecisionTreeRegressor(criterion='squared_error', max_depth=3, random_state=42)\n",
        "tree_clf_poi = DecisionTreeRegressor(criterion='poisson', max_depth=3, random_state=42)\n",
        "\n",
        "tree_clf_sq.fit(X_train, y_train)\n",
        "tree_clf_poi.fit(X_train, y_train)\n",
        "\n",
        "y_pred1 = tree_clf_sq.predict(X_test)\n",
        "y_pred2 = tree_clf_poi.predict(X_test)\n",
        "\n",
        "r2_squared_error = r2_score(y_test, y_pred1)\n",
        "r2_poisson = r2_score(y_test, y_pred2)\n",
        "\n",
        "# raise NotImplementedError()"
      ]
    },
    {
      "cell_type": "code",
      "execution_count": null,
      "id": "6d2fba39-f5e4-45a6-b327-dd58cb179736",
      "metadata": {
        "id": "6d2fba39-f5e4-45a6-b327-dd58cb179736"
      },
      "outputs": [],
      "source": [
        "\"\"\"Τεστ ορθού υπολογισμού των μετρικών\"\"\"\n",
        "assert round(r2_squared_error, 3) == 0.329\n",
        "assert round(r2_poisson, 3) == 0.391\n",
        "assert len(y_pred1) == len(y_pred2)"
      ]
    },
    {
      "cell_type": "markdown",
      "id": "94f5d9c9-4e95-4580-be1e-b4fe3a4205bf",
      "metadata": {
        "id": "94f5d9c9-4e95-4580-be1e-b4fe3a4205bf"
      },
      "source": [
        "**4** Αναπτύξτε κώδικα με βάση την ιδιότητα [tree_](https://scikit-learn.org/stable/auto_examples/tree/plot_unveil_tree_structure.html#sphx-glr-auto-examples-tree-plot-unveil-tree-structure-py) του παρακάτω μοντέλου, προκειμένου να εμφανίσετε το μονοπάτι που ακολουθήθηκε στο δένδρο για την πρόβλεψη της πρώτης περίπτωσης του συνόλου ελέγχου. Σε περίπτωση που ελέγχεται δεύτερη φορά μια μεταβλητή στο μονοπάτι, θα πρέπει να διατηρούμε τον τελευταίο και στενότερο περιορισμό. Ακολουθούν παραδείγματα ορθής λειτουργίας, στα οποία φαίνεται και η μορφή αν-τότε που πρέπει να έχει το μονοπάτι. (4 μονάδες)"
      ]
    },
    {
      "cell_type": "code",
      "execution_count": null,
      "id": "77cf9b64-8b11-479c-a106-132fd6398ff9",
      "metadata": {
        "colab": {
          "base_uri": "https://localhost:8080/",
          "height": 75
        },
        "id": "77cf9b64-8b11-479c-a106-132fd6398ff9",
        "outputId": "d95efaf4-05ca-492b-9d9f-a13040cb7c53"
      },
      "outputs": [
        {
          "output_type": "execute_result",
          "data": {
            "text/plain": [
              "DecisionTreeRegressor(max_depth=3, random_state=42)"
            ],
            "text/html": [
              "<style>#sk-container-id-1 {color: black;background-color: white;}#sk-container-id-1 pre{padding: 0;}#sk-container-id-1 div.sk-toggleable {background-color: white;}#sk-container-id-1 label.sk-toggleable__label {cursor: pointer;display: block;width: 100%;margin-bottom: 0;padding: 0.3em;box-sizing: border-box;text-align: center;}#sk-container-id-1 label.sk-toggleable__label-arrow:before {content: \"▸\";float: left;margin-right: 0.25em;color: #696969;}#sk-container-id-1 label.sk-toggleable__label-arrow:hover:before {color: black;}#sk-container-id-1 div.sk-estimator:hover label.sk-toggleable__label-arrow:before {color: black;}#sk-container-id-1 div.sk-toggleable__content {max-height: 0;max-width: 0;overflow: hidden;text-align: left;background-color: #f0f8ff;}#sk-container-id-1 div.sk-toggleable__content pre {margin: 0.2em;color: black;border-radius: 0.25em;background-color: #f0f8ff;}#sk-container-id-1 input.sk-toggleable__control:checked~div.sk-toggleable__content {max-height: 200px;max-width: 100%;overflow: auto;}#sk-container-id-1 input.sk-toggleable__control:checked~label.sk-toggleable__label-arrow:before {content: \"▾\";}#sk-container-id-1 div.sk-estimator input.sk-toggleable__control:checked~label.sk-toggleable__label {background-color: #d4ebff;}#sk-container-id-1 div.sk-label input.sk-toggleable__control:checked~label.sk-toggleable__label {background-color: #d4ebff;}#sk-container-id-1 input.sk-hidden--visually {border: 0;clip: rect(1px 1px 1px 1px);clip: rect(1px, 1px, 1px, 1px);height: 1px;margin: -1px;overflow: hidden;padding: 0;position: absolute;width: 1px;}#sk-container-id-1 div.sk-estimator {font-family: monospace;background-color: #f0f8ff;border: 1px dotted black;border-radius: 0.25em;box-sizing: border-box;margin-bottom: 0.5em;}#sk-container-id-1 div.sk-estimator:hover {background-color: #d4ebff;}#sk-container-id-1 div.sk-parallel-item::after {content: \"\";width: 100%;border-bottom: 1px solid gray;flex-grow: 1;}#sk-container-id-1 div.sk-label:hover label.sk-toggleable__label {background-color: #d4ebff;}#sk-container-id-1 div.sk-serial::before {content: \"\";position: absolute;border-left: 1px solid gray;box-sizing: border-box;top: 0;bottom: 0;left: 50%;z-index: 0;}#sk-container-id-1 div.sk-serial {display: flex;flex-direction: column;align-items: center;background-color: white;padding-right: 0.2em;padding-left: 0.2em;position: relative;}#sk-container-id-1 div.sk-item {position: relative;z-index: 1;}#sk-container-id-1 div.sk-parallel {display: flex;align-items: stretch;justify-content: center;background-color: white;position: relative;}#sk-container-id-1 div.sk-item::before, #sk-container-id-1 div.sk-parallel-item::before {content: \"\";position: absolute;border-left: 1px solid gray;box-sizing: border-box;top: 0;bottom: 0;left: 50%;z-index: -1;}#sk-container-id-1 div.sk-parallel-item {display: flex;flex-direction: column;z-index: 1;position: relative;background-color: white;}#sk-container-id-1 div.sk-parallel-item:first-child::after {align-self: flex-end;width: 50%;}#sk-container-id-1 div.sk-parallel-item:last-child::after {align-self: flex-start;width: 50%;}#sk-container-id-1 div.sk-parallel-item:only-child::after {width: 0;}#sk-container-id-1 div.sk-dashed-wrapped {border: 1px dashed gray;margin: 0 0.4em 0.5em 0.4em;box-sizing: border-box;padding-bottom: 0.4em;background-color: white;}#sk-container-id-1 div.sk-label label {font-family: monospace;font-weight: bold;display: inline-block;line-height: 1.2em;}#sk-container-id-1 div.sk-label-container {text-align: center;}#sk-container-id-1 div.sk-container {/* jupyter's `normalize.less` sets `[hidden] { display: none; }` but bootstrap.min.css set `[hidden] { display: none !important; }` so we also need the `!important` here to be able to override the default hidden behavior on the sphinx rendered scikit-learn.org. See: https://github.com/scikit-learn/scikit-learn/issues/21755 */display: inline-block !important;position: relative;}#sk-container-id-1 div.sk-text-repr-fallback {display: none;}</style><div id=\"sk-container-id-1\" class=\"sk-top-container\"><div class=\"sk-text-repr-fallback\"><pre>DecisionTreeRegressor(max_depth=3, random_state=42)</pre><b>In a Jupyter environment, please rerun this cell to show the HTML representation or trust the notebook. <br />On GitHub, the HTML representation is unable to render, please try loading this page with nbviewer.org.</b></div><div class=\"sk-container\" hidden><div class=\"sk-item\"><div class=\"sk-estimator sk-toggleable\"><input class=\"sk-toggleable__control sk-hidden--visually\" id=\"sk-estimator-id-1\" type=\"checkbox\" checked><label for=\"sk-estimator-id-1\" class=\"sk-toggleable__label sk-toggleable__label-arrow\">DecisionTreeRegressor</label><div class=\"sk-toggleable__content\"><pre>DecisionTreeRegressor(max_depth=3, random_state=42)</pre></div></div></div></div></div>"
            ]
          },
          "metadata": {},
          "execution_count": 9
        }
      ],
      "source": [
        "from sklearn.tree import export_text\n",
        "model = DecisionTreeRegressor(max_depth=3, random_state=42)\n",
        "model.fit(X_train, y_train)"
      ]
    },
    {
      "cell_type": "code",
      "execution_count": null,
      "id": "6d0aaab3-cd65-413c-8759-49107ee6737a",
      "metadata": {
        "id": "6d0aaab3-cd65-413c-8759-49107ee6737a"
      },
      "outputs": [],
      "source": [
        "def get_path(tree, instance, feature_names):\n",
        "# YOUR CODE HERE\n",
        "\n",
        "  n_nodes = tree.tree_.node_count\n",
        "  children_left = tree.tree_.children_left\n",
        "  children_right = tree.tree_.children_right\n",
        "  feature = tree.tree_.feature\n",
        "  threshold = tree.tree_.threshold\n",
        "  values = tree.tree_.value\n",
        "\n",
        "  # array that contains all the nodes the instance travels through\n",
        "  node_indicator = tree.decision_path(X_test)\n",
        "  # array that contains the ids of all the leaf nodes of the tree\n",
        "  leaf_id = tree.apply(X_test)\n",
        "\n",
        "  #We find the index of the row inside X_test that corresponds to the given instance\n",
        "  k = X_test[:,] == instance\n",
        "\n",
        "  instance_found = 0\n",
        "  #the row(s) of k which elements are all equal to 1, corresponds  to the given instance\n",
        "  for i in range(0, X_test.shape[0], 1):\n",
        "   if all(k[i]):\n",
        "    index = i\n",
        "    instance_found = 1\n",
        "\n",
        "  if (instance_found == 0):\n",
        "    print(\"Didn't found the instance exiting...\\n\")\n",
        "    return(1)\n",
        "\n",
        "  #predic the X_test\n",
        "  y_pred = tree.predict(X_test)\n",
        "\n",
        "  str_result = []\n",
        "  str_result.clear()\n",
        "  str_result.append(\"αν\")\n",
        "\n",
        "\n",
        "  sample_id = index\n",
        "  node_index = node_indicator.indices[\n",
        "    node_indicator.indptr[sample_id] : node_indicator.indptr[sample_id + 1]\n",
        "  ]\n",
        "\n",
        "  for node_id in node_index:\n",
        "\n",
        "    # Reached a leaf node, add the predicted value of the sample to the final string\n",
        "    if leaf_id[sample_id] == node_id:\n",
        "      str_result.append(\"τότε\" + \" \" + str(round(y_pred[index],2)))\n",
        "      continue\n",
        "\n",
        "    # check if value of the split feature for the sample is below threshold\n",
        "    if X_test[sample_id, feature[node_id]] <= threshold[node_id]:\n",
        "        threshold_sign = \"<=\"\n",
        "    else:\n",
        "        threshold_sign = \">\"\n",
        "\n",
        "    #in the root node we just push the results into the final string\n",
        "    if(node_id == 0):\n",
        "      str_result.append(str(diabetes.feature_names[feature[node_id]]))\n",
        "      str_result.append(str(threshold_sign))\n",
        "      str_result.append(str(round(threshold[node_id],2)))\n",
        "\n",
        "    #for every intermediate node we check if the node's feature have been examined before\n",
        "    else:\n",
        "      #if the node's feature have been examined before we might push results into the final string flag = 1 else we will surely push new results in the final string flag = 0\n",
        "      flag = 0\n",
        "      for i in str_result:\n",
        "\n",
        "        if str(diabetes.feature_names[feature[node_id]]) == i:\n",
        "          # Get the index of the element inside the final string that is equal to the current node's feature\n",
        "          index_str = str_result.index(i)\n",
        "\n",
        "          #We will mark the old feature threshold (str_result[index_str+2]) as A and the current node's feature threshold as B\n",
        "          #We must examine 6 different cases\n",
        "\n",
        "          #1st case where A, B <0 and the sign = \"<=\"\n",
        "          if (round(threshold[node_id],2) <= 0) & (float(str_result[index_str+2])<=0):\n",
        "            if (threshold_sign == \"<=\") & (str_result[index_str+1]== \"<=\"):\n",
        "              if abs(round(threshold[node_id],2)) > abs(float(str_result[index_str+2])):\n",
        "                flag = 1\n",
        "                str_result[index_str+2] = str(round(threshold[node_id],2))\n",
        "                continue\n",
        "              else:\n",
        "                continue\n",
        "            # 2nd case where A, B < 0 and the sign = \">\"\n",
        "            elif (threshold_sign == \">\") & (str_result[index_str+1] == \">\"):\n",
        "              if abs(round(threshold[node_id],2)) < abs(float(str_result[index_str+2])):\n",
        "                flag = 1\n",
        "                str_result[index_str+2] = str(round(threshold[node_id],2))\n",
        "                continue\n",
        "              else:\n",
        "                continue\n",
        "            else:\n",
        "              continue\n",
        "\n",
        "          elif (round(threshold[node_id],2) > 0) & (float(str_result[index_str+2]) > 0):\n",
        "            # 3rd case where A,B >0 and the sign = \"<=\"\n",
        "            if (threshold_sign == \"<=\") & (str_result[index_str+1]== \"<=\"):\n",
        "              if round(threshold[node_id],2) < float(str_result[index_str+2]):\n",
        "                flag = 1\n",
        "                str_result[index_str+2] = str(round(threshold[node_id],2))\n",
        "                continue\n",
        "              else:\n",
        "                continue\n",
        "            # 4th case where A, B >0 and the sign = \">\"\n",
        "            elif(threshold_sign == \">\") & (str_result[index_str+1]== \">\"):\n",
        "              if round(threshold[node_id],2) > float(str_result[index_str+2]):\n",
        "                flag = 1\n",
        "                str_result[index_str+2] = str(round(threshold[node_id],2))\n",
        "                continue\n",
        "              else:\n",
        "                continue\n",
        "            else:\n",
        "              continue\n",
        "\n",
        "          else:\n",
        "            #5th case where A and B have different signs and the sign = \"<=\"\n",
        "            if(threshold_sign == \"<=\"):\n",
        "              if (round(threshold[node_id],2) <= 0):\n",
        "                flag = 1\n",
        "                str_result[index_str+2] = str(round(threshold[node_id],2))\n",
        "              else:\n",
        "                continue\n",
        "            #6th case where A and B have different signs and the sign = \">\"\n",
        "            else:\n",
        "              if (round(threshold[node_id],2) >= 0):\n",
        "                flag = 1\n",
        "                str_result[index_str+2] = str(round(threshold[node_id],2))\n",
        "              else:\n",
        "                continue\n",
        "\n",
        "      if (flag == 0):\n",
        "        str_result.append(\"και\")\n",
        "        str_result.append(str(diabetes.feature_names[feature[node_id]]))\n",
        "        str_result.append(str(threshold_sign))\n",
        "        str_result.append(str(round(threshold[node_id],2)))\n",
        "\n",
        "    print(\n",
        "        \"decision node {node} : (X_test[{sample}, {feature}] = {value}) \"\n",
        "        \"{inequality} {threshold})\".format(\n",
        "            node=node_id,\n",
        "            sample=sample_id,\n",
        "            feature=feature[node_id],\n",
        "            value=X_test[sample_id, feature[node_id]],\n",
        "            inequality= threshold_sign,\n",
        "            threshold= round(threshold[node_id],2),\n",
        "        )\n",
        "\n",
        "    )\n",
        "\n",
        "  # concatenating the result list in order to reach the desired output form of the testing methods\n",
        "  str_result = \" \".join(str_result)\n",
        "  print(str_result)\n",
        "  return(str_result)\n",
        "\n",
        "  raise NotImplementedError()"
      ]
    },
    {
      "cell_type": "code",
      "execution_count": null,
      "id": "b9bcecd0-55e1-4d43-8115-3c59157d6430",
      "metadata": {
        "colab": {
          "base_uri": "https://localhost:8080/"
        },
        "id": "b9bcecd0-55e1-4d43-8115-3c59157d6430",
        "outputId": "928e41ae-39a1-4d8e-951e-d229e820b86c",
        "collapsed": true
      },
      "outputs": [
        {
          "output_type": "stream",
          "name": "stdout",
          "text": [
            "decision node 0 : (X_test[0, 2] = -0.006205954135807083) <= 0.01)\n",
            "decision node 1 : (X_test[0, 8] = 0.03243232415655107) > 0.01)\n",
            "decision node 5 : (X_test[0, 7] = 0.03430885887772673) <= 0.09)\n",
            "αν bmi <= 0.01 και s5 > 0.01 και s4 <= 0.09 τότε 159.57\n",
            "decision node 0 : (X_test[1, 2] = 0.0369065288194249) > 0.01)\n",
            "decision node 8 : (X_test[1, 2] = 0.0369065288194249) <= 0.07)\n",
            "decision node 9 : (X_test[1, 9] = -0.021788232074638245) <= 0.03)\n",
            "αν bmi > 0.01 και bmi <= 0.07 και s6 <= 0.03 τότε 175.8\n",
            "decision node 0 : (X_test[6, 2] = 0.17055522598064407) > 0.01)\n",
            "decision node 8 : (X_test[6, 2] = 0.17055522598064407) > 0.07)\n",
            "decision node 12 : (X_test[6, 5] = 0.03375875029420919) > 0.02)\n",
            "αν bmi > 0.07 και s2 > 0.02 τότε 225.75\n"
          ]
        }
      ],
      "source": [
        "\"\"\"Τεστ ορθού υπολογισμού του μονοπατιού\"\"\"\n",
        "assert get_path(model, X_test[0], diabetes.feature_names) == 'αν bmi <= 0.01 και s5 > 0.01 και s4 <= 0.09 τότε 159.57'\n",
        "assert get_path(model, X_test[1], diabetes.feature_names) == 'αν bmi > 0.01 και bmi <= 0.07 και s6 <= 0.03 τότε 175.8'\n",
        "assert get_path(model, X_test[6], diabetes.feature_names) == 'αν bmi > 0.07 και s2 > 0.02 τότε 225.75'"
      ]
    },
    {
      "cell_type": "markdown",
      "id": "5193718d-3e13-47c6-a9f1-a09ea06ec641",
      "metadata": {
        "id": "5193718d-3e13-47c6-a9f1-a09ea06ec641"
      },
      "source": [
        "**5** Διαχωρίστε τα δεδομένα diabetes σε υποσύνολα εκπαίδευσης 60% (X_train, y_train), επικύρωσης 15% (X_val, y_val) και ελέγχου 25% (X_test, y_test) με σπόρο τυχαιότητας 42. (1 μονάδα)"
      ]
    },
    {
      "cell_type": "code",
      "execution_count": null,
      "id": "491d8125-9dbe-4af2-86f5-d82853fb7338",
      "metadata": {
        "id": "491d8125-9dbe-4af2-86f5-d82853fb7338"
      },
      "outputs": [],
      "source": [
        "# YOUR CODE HERE\n",
        "\n",
        "diabetes = load_diabetes()\n",
        "X_train = diabetes.data\n",
        "y_train = diabetes.target\n",
        "\n",
        "X_train, X_test, y_train, y_test = train_test_split(diabetes.data, diabetes.target, test_size=0.25, random_state=42) # testing set -> 25% of the initial overall training set\n",
        "X_train, X_val, y_train, y_val = train_test_split(X_train, y_train, test_size=0.2, random_state=42) # 0.2 x 0.75 (remaining training set) = 0.15 -> validation set equal to 15% of the initial training set\n",
        "# raise NotImplementedError()"
      ]
    },
    {
      "cell_type": "code",
      "execution_count": null,
      "id": "dd047e1b-76eb-4e7c-bf90-08870f1e36ea",
      "metadata": {
        "id": "dd047e1b-76eb-4e7c-bf90-08870f1e36ea"
      },
      "outputs": [],
      "source": [
        "\"\"\"Τεστ ορθού διαχωρισμού του συνόλου δεδομένων\"\"\"\n",
        "assert round(X_train[0][8], 5) == -0.08024\n",
        "assert round(X_val[0][8], 5) == 0.09924\n",
        "assert round(X_test[0][8], 5) == 0.03243"
      ]
    },
    {
      "cell_type": "markdown",
      "id": "4efdf0b0-e8e6-4e0d-bc05-e3ea1f7986cc",
      "metadata": {
        "id": "4efdf0b0-e8e6-4e0d-bc05-e3ea1f7986cc"
      },
      "source": [
        "**6** Υλοποιήστε συνάρτηση, η οποία δοθέντος ενός δενδρικού μοντέλου παλινδρόμησης, διερευνά όλες τις ακέραιες τιμές της μεταβλητής min_samples_leaf από ένα κάτω όριο μέχρι ένα άνω όριο και επιστρέφει την βέλτιστη με βάση το mean squared error στο παραπάνω σύνολο επικύρωσης έπειτα από εκπαίδευση στο παραπάνω σύνολο εκπαίδευσης. Επιπλέον επιστρέφει και το mean squared error (στρογγυλοποιημένο σε ακέραιο) που πετυχαίνει στο σύνολο ελέγχου το μοντέλο με την βέλτιστη επίδοση στο σύνολο επικύρωσης. (2 μονάδες)"
      ]
    },
    {
      "cell_type": "code",
      "execution_count": null,
      "id": "9dbead38-ca9b-42df-bbb2-b048f5e24b22",
      "metadata": {
        "id": "9dbead38-ca9b-42df-bbb2-b048f5e24b22"
      },
      "outputs": [],
      "source": [
        "from sklearn.metrics import mean_squared_error\n",
        "\n",
        "def best_min_samples_leaf(model, min, max):\n",
        "# YOUR CODE HERE\n",
        "\n",
        "  import sys\n",
        "\n",
        "  #Declaring a variable with the maximum integer value\n",
        "  min_error = sys.maxsize\n",
        "  best_min_samples_leaf = 0\n",
        "  mse = 0\n",
        "\n",
        "  #max+1 as the upper bound is exclusive\n",
        "  for i in range(min, max+1):\n",
        "    min_samples_leaf = {\"min_samples_leaf\":i}\n",
        "    #modifying the parameters of the DecisionTreeRegressor\n",
        "    model.set_params(**min_samples_leaf)\n",
        "    model.fit(X_train, y_train)\n",
        "\n",
        "    y_pred = model.predict(X_val)\n",
        "    mse = (mean_squared_error(y_pred, y_val))\n",
        "    print(mse)\n",
        "\n",
        "    if mse < min_error:\n",
        "      min_error = mse\n",
        "      best_min_samples_leaf = i\n",
        "\n",
        "  ### More elegant solution but the use of the built in function min() is blocked by the local declaration of the variable min which is an input in the function\n",
        "  # min_error = min(mse)\n",
        "  # best_min_samples_leaf = mse.index(min_error) + 1\n",
        "\n",
        "  min_samples_leaf = {\"min_samples_leaf\": best_min_samples_leaf}\n",
        "  model.set_params(**min_samples_leaf)\n",
        "  model.fit(X_train, y_train)\n",
        "\n",
        "  y_test_pred = model.predict(X_test)\n",
        "  mse_test = mean_squared_error(y_test_pred, y_test)\n",
        "\n",
        "\n",
        "  print(best_min_samples_leaf, round(mse_test))\n",
        "\n",
        "  return(best_min_samples_leaf, round(mse_test))\n",
        "# raise NotImplementedError()\n"
      ]
    },
    {
      "cell_type": "code",
      "execution_count": null,
      "id": "b838ddc0-89a8-4eee-a763-a7d3c11e5b30",
      "metadata": {
        "id": "b838ddc0-89a8-4eee-a763-a7d3c11e5b30",
        "colab": {
          "base_uri": "https://localhost:8080/"
        },
        "outputId": "3ca95366-27b9-4da5-c20f-faf00c1dd157"
      },
      "outputs": [
        {
          "output_type": "stream",
          "name": "stdout",
          "text": [
            "4582.062683904903\n",
            "4582.062683904903\n",
            "4582.062683904903\n",
            "4582.062683904903\n",
            "4582.062683904903\n",
            "4582.062683904903\n",
            "4574.030501597899\n",
            "4574.030501597899\n",
            "7 3358\n",
            "4582.062683904903\n",
            "4582.062683904903\n",
            "4574.030501597899\n",
            "4574.030501597899\n",
            "4573.579698039112\n",
            "4559.966783200092\n",
            "4197.330763713603\n",
            "4211.308036440876\n",
            "4211.308036440876\n",
            "4211.308036440876\n",
            "4211.308036440876\n",
            "11 3271\n"
          ]
        }
      ],
      "source": [
        "\"\"\"Τεστ ορθής υλοποίησης συνάρτησης\"\"\"\n",
        "model = DecisionTreeRegressor(max_depth=3, random_state=42)\n",
        "assert best_min_samples_leaf(model, 1, 8) == (7, 3358)\n",
        "assert best_min_samples_leaf(model, 5, 15) == (11, 3271)"
      ]
    },
    {
      "cell_type": "markdown",
      "id": "f3bfd62f-4bcb-469e-828d-59cae51a8fc0",
      "metadata": {
        "id": "f3bfd62f-4bcb-469e-828d-59cae51a8fc0"
      },
      "source": [
        "**7** Υλοποιήστε συνάρτηση η οποία δοθέντος ενός μοντέλου παλινδρόμησης, ενός συνόλου δεδομένων και μίας μετρικής, το αξιολογεί με τη μέθοδο της σταυρωτής επικύρωσης \"άφησε ένα εκτός\". (1 μονάδα)"
      ]
    },
    {
      "cell_type": "code",
      "execution_count": null,
      "id": "5141d2a3-f31f-4849-bcf7-373833f8b6a9",
      "metadata": {
        "id": "5141d2a3-f31f-4849-bcf7-373833f8b6a9"
      },
      "outputs": [],
      "source": [
        "from sklearn.model_selection import LeaveOneOut\n",
        "import numpy as np\n",
        "\n",
        "def leave_one_out(model, X, y, metric):\n",
        "# YOUR CODE HERE\n",
        "  loo = LeaveOneOut()\n",
        "  loo.get_n_splits(X)\n",
        "\n",
        "  accuracies = []\n",
        "  for train_index, test_index in loo.split(X):\n",
        "    X_train, X_test = X[train_index], X[test_index]\n",
        "    y_train, y_test = y[train_index], y[test_index]\n",
        "    model.fit(X_train, y_train)\n",
        "    y_pred = model.predict(X_test)\n",
        "    accuracies.append(mean_squared_error(y_test, y_pred))\n",
        "\n",
        "  avg = np.average(accuracies)\n",
        "  print(round(avg))\n",
        "  return(avg)\n",
        "# raise NotImplementedError()"
      ]
    },
    {
      "cell_type": "code",
      "execution_count": null,
      "id": "d32f124b-9c2c-4c45-80e0-284739a53d8f",
      "metadata": {
        "id": "d32f124b-9c2c-4c45-80e0-284739a53d8f",
        "colab": {
          "base_uri": "https://localhost:8080/"
        },
        "outputId": "cec10b86-d11b-4f23-9f4c-a9e55165aeca"
      },
      "outputs": [
        {
          "output_type": "stream",
          "name": "stdout",
          "text": [
            "3354\n"
          ]
        }
      ],
      "source": [
        "\"\"\"Τεστ ορθής υλοποίησης συνάρτησης\"\"\"\n",
        "model = DecisionTreeRegressor(max_leaf_nodes=6, min_samples_leaf=2, random_state=42)\n",
        "assert round(leave_one_out(model, diabetes.data, diabetes.target, mean_squared_error), 0) == 3354"
      ]
    }
  ],
  "metadata": {
    "colab": {
      "provenance": []
    },
    "kernelspec": {
      "display_name": "Python 3 (ipykernel)",
      "language": "python",
      "name": "python3"
    },
    "language_info": {
      "codemirror_mode": {
        "name": "ipython",
        "version": 3
      },
      "file_extension": ".py",
      "mimetype": "text/x-python",
      "name": "python",
      "nbconvert_exporter": "python",
      "pygments_lexer": "ipython3",
      "version": "3.10.12"
    }
  },
  "nbformat": 4,
  "nbformat_minor": 5
}