{
  "cells": [
    {
      "cell_type": "markdown",
      "metadata": {
        "id": "yUUEhtBdkEEt"
      },
      "source": [
        "## Εργασία 1 ##\n",
        "\n",
        "Καλωσήρθατε στην πρώτη σας εργασία. Η εργασία αυτή έχει σκοπό να σας βοηθήσει να εμπεδώσετε τα γραμμικά μοντέλα.\n",
        "\n",
        "Τα Jupyter Notebooks είναι αλληλεπιδραστικά περιβάλλοντα προγραμματισμού ενσωματωμένα σε μια ιστοσελίδα. Στο μάθημα \"Μηχανική Μάθηση\" τα χρησιμοποιούμε στο πρακτικό μέρος του μαθήματος.\n",
        "\n",
        "Στην εργασία αυτή θα πρέπει να συμπληρώσετε κώδικα Python 3 στα σημεία που αναφέρουν # YOUR CODE HERE. Μην τροποποιείτε τον κώδικα που βρίσκεται εκτός αυτών των περιοχών.\n",
        "\n",
        "Πρωτού παραδόσετε την εργασία σας σιγουρευτείτε ότι ο κώδικας σε όλα τα κελιά τρέχει σωστά. Για το σκοπό αυτό επιλέξτε από το μενού **Χρόνος εκτέλεσης (runtime) -> Επανεκίνηση περιόδου λειτουργίας και εκτέλεση όλων**.\n",
        "\n",
        "Συμπληρώστε το όνομα (**NAME**) και το **AEM** σας παρακάτω:"
      ]
    },
    {
      "cell_type": "code",
      "execution_count": null,
      "metadata": {
        "id": "4SAlcWtjkEEv"
      },
      "outputs": [],
      "source": [
        "NAME = \"Enter your Name here\"\n",
        "AEM = \"Enter your AEM here\""
      ]
    },
    {
      "cell_type": "markdown",
      "metadata": {
        "id": "Al32oVaqkEEw"
      },
      "source": [
        "---\n",
        "## Μέρος A: NumPy (1 μονάδα)\n",
        "\n",
        "Η βιβλιοθήκη [**NumPy**](https://numpy.org/) είναι η βασική βιβιλιοθήκη για επιστημονικούς υπολογισμούς σε Python. Παρέχει ένα υψηλής επίδοσης αντικείμενο για την αποθήκευση πολυδιάστατων πινάκων και εργαλεία για επεξεργασίας αυτών των πινάκων.\n",
        "\n",
        "Μπορείτε να συμβουλεύεστε την τεκμηρίωση ([NumPy Doc](https://numpy.org/doc/1.18/user/quickstart.html)) αυτών των βιβλιοθηκών κατά την εκπόνηση της εργασίας.\n",
        "\n",
        "Κατά σύμβαση πάντα φορτώνουμε τη βιβλιοθήκη με τον ακόλουθο τρόπο:"
      ]
    },
    {
      "cell_type": "code",
      "execution_count": null,
      "metadata": {
        "id": "Ty0CfJEVkEEw"
      },
      "outputs": [],
      "source": [
        "# Run this cell\n",
        "import numpy as np"
      ]
    },
    {
      "cell_type": "markdown",
      "metadata": {
        "id": "FaidbZfLkEEw"
      },
      "source": [
        "**A1**: Ορίστε συνάρτηση που επιστρέφει πίνακα 2 διδαστάσεων με r γραμμές και c στήλες και περιέχει τυχαίες τιμές από 0 έως 1 με τη βοήθεια της συνάρτησης np.random.rand. Ακολουθούν τεστ ορθής λειτουργίας της συνάρτησης."
      ]
    },
    {
      "cell_type": "code",
      "execution_count": null,
      "metadata": {
        "deletable": false,
        "id": "s0P9oz8xkEEw",
        "nbgrader": {
          "cell_type": "code",
          "checksum": "d92c1990a8861a674b06f1d88e60c7db",
          "grade": false,
          "grade_id": "cell-4dd473645ec1eb64",
          "locked": false,
          "schema_version": 3,
          "solution": true,
          "task": false
        }
      },
      "outputs": [],
      "source": [
        "def random_2d_array(r, c):\n",
        "    \"\"\"Επιστρέφει διδιάστατο πίνακα με r γραμμές και c στήλες.\n",
        "\n",
        "    \"\"\"\n",
        "    # YOUR CODE HERE\n",
        "    array = np.random.rand(r, c)\n",
        "    print(array)\n",
        "    return array\n",
        "    raise NotImplementedError()"
      ]
    },
    {
      "cell_type": "code",
      "execution_count": null,
      "metadata": {
        "colab": {
          "base_uri": "https://localhost:8080/"
        },
        "deletable": false,
        "editable": false,
        "id": "ebHT8-XjkEEw",
        "nbgrader": {
          "cell_type": "code",
          "checksum": "58c6d24b66e1df195036c8d5d1df487c",
          "grade": true,
          "grade_id": "random_2d_array_correct_shape",
          "locked": true,
          "points": 5,
          "schema_version": 3,
          "solution": false,
          "task": false
        },
        "outputId": "325f9129-48e6-4612-b492-09d1636860eb"
      },
      "outputs": [
        {
          "name": "stdout",
          "output_type": "stream",
          "text": [
            "[[0.40775705 0.88940815 0.99559904 0.69993907 0.3767001 ]\n",
            " [0.70077857 0.96128859 0.29033705 0.86344192 0.33524085]\n",
            " [0.66718668 0.10812146 0.59042981 0.36922398 0.59355675]]\n",
            "[[0.42158575 0.37434674]\n",
            " [0.01981179 0.08031356]\n",
            " [0.87611968 0.87291287]\n",
            " [0.55008546 0.39765007]\n",
            " [0.65075962 0.68023439]]\n"
          ]
        }
      ],
      "source": [
        "\"\"\"Τεστ επιστροφής πίνακα με τις σωστές διαστάσεις\"\"\"\n",
        "assert np.shape(random_2d_array(3, 5)) == (3, 5)\n",
        "assert np.shape(random_2d_array(5, 2)) == (5, 2)"
      ]
    },
    {
      "cell_type": "markdown",
      "metadata": {
        "id": "zdfRV2tnkEEx"
      },
      "source": [
        "**A2**: Ορίστε συνάρτηση που δέχεται δύο διδιάστατους πίνακες και επιστρέφει το γινόμενο του ανάστροφου του 1ου πίνακα με τον 2ο πίνακα με τη χρήση της numpy. Ακολουθούν τεστ ορθής λειτουργίας της συνάρτησης."
      ]
    },
    {
      "cell_type": "code",
      "execution_count": null,
      "metadata": {
        "deletable": false,
        "id": "T3Ee7r_ekEEx",
        "nbgrader": {
          "cell_type": "code",
          "checksum": "4ef0876d963ef6152ae9e8f6e2fdc7a5",
          "grade": false,
          "grade_id": "cell-c697582f03491bb7",
          "locked": false,
          "schema_version": 3,
          "solution": true,
          "task": false
        }
      },
      "outputs": [],
      "source": [
        "def multiply_transpose(a, b):\n",
        "    \"\"\"Επιστρέφει το γινόμενο του ανάστροφου του 1ου πίνακα με τον 2ο πίνακα.\n",
        "\n",
        "    \"\"\"\n",
        "    # YOUR CODE HERE\n",
        "    a_inv = a.T\n",
        "    mult_res = np.dot(a_inv, b)\n",
        "    return(mult_res)\n",
        "\n",
        "    raise NotImplementedError()"
      ]
    },
    {
      "cell_type": "code",
      "execution_count": null,
      "metadata": {
        "colab": {
          "base_uri": "https://localhost:8080/"
        },
        "deletable": false,
        "editable": false,
        "id": "Ev-sIGoxkEEx",
        "nbgrader": {
          "cell_type": "code",
          "checksum": "c54ef19235f0620cfbf0983e572d5f4e",
          "grade": true,
          "grade_id": "cell-23e086f3e85d8f53",
          "locked": true,
          "points": 5,
          "schema_version": 3,
          "solution": false,
          "task": false
        },
        "outputId": "f046307d-4008-4edf-e0ad-1e20b99c717a"
      },
      "outputs": [
        {
          "name": "stdout",
          "output_type": "stream",
          "text": [
            "[[0.86844949 0.45494009 0.94435596 0.28232435 0.69495736]\n",
            " [0.80326122 0.54750293 0.11636287 0.9092035  0.45328416]\n",
            " [0.3505158  0.63091333 0.94097694 0.86605003 0.66840299]]\n",
            "[[0.34159441 0.47892171]\n",
            " [0.08739688 0.3086739 ]\n",
            " [0.50364067 0.14284606]]\n"
          ]
        }
      ],
      "source": [
        "\"\"\"Τεστ επιστροφής πίνακα με τις σωστές διαστάσεις\"\"\"\n",
        "a = random_2d_array(3, 5)\n",
        "b = random_2d_array(3, 2)\n",
        "assert np.shape(multiply_transpose(a, b)) == (5, 2)\n",
        "assert np.shape(multiply_transpose(b, a)) == (2, 5)"
      ]
    },
    {
      "cell_type": "markdown",
      "metadata": {
        "id": "h0t7mSs5kEEx"
      },
      "source": [
        "## Μέρος Β: Γραμμικά μοντέλα (6 μονάδες) ##\n",
        "\n",
        "Σε αυτό το μέρος της άσκησης θα χτίσουμε ένα μοντέλο γραμμικής παλινδρόμησης από το μηδέν."
      ]
    },
    {
      "cell_type": "markdown",
      "metadata": {
        "id": "DVdMuz5AkEEx"
      },
      "source": [
        "**B1:** Υλοποιήστε τη σιγμοειδή συνάρτηση $\\sigma(z)= \\dfrac{1}{1 + exp(-z)}$ με τη NumPy. Ακολουθούν τεστ ορθής λειτουργίας της συνάρτησης."
      ]
    },
    {
      "cell_type": "code",
      "execution_count": null,
      "metadata": {
        "deletable": false,
        "id": "o2mak0CSkEEx",
        "nbgrader": {
          "cell_type": "code",
          "checksum": "fc973cf2e7884a507e7eac2cfb3fe1ba",
          "grade": false,
          "grade_id": "cell-c21b32f8218a444e",
          "locked": false,
          "schema_version": 3,
          "solution": true,
          "task": false
        }
      },
      "outputs": [],
      "source": [
        "def sigmoid(z):\n",
        "    \"\"\"Υπολογίζει τη σιγμοειδή συνάρτηση.\"\"\"\n",
        "    # YOUR CODE HERE\n",
        "    import math\n",
        "    sigma = 1 / (1 + np.exp(-z))\n",
        "    return(sigma)\n",
        "    raise NotImplementedError()"
      ]
    },
    {
      "cell_type": "code",
      "execution_count": null,
      "metadata": {
        "deletable": false,
        "editable": false,
        "id": "DlW8d6SKkEEy",
        "nbgrader": {
          "cell_type": "code",
          "checksum": "4c6d452aad1fba89422cc05702e86672",
          "grade": true,
          "grade_id": "cell-c522a25040bf7202",
          "locked": true,
          "points": 10,
          "schema_version": 3,
          "solution": false,
          "task": false
        }
      },
      "outputs": [],
      "source": [
        "\"\"\"Τεστ ορθού υπολογισμού σιγμοειδούς.\"\"\"\n",
        "assert sigmoid(0) == 0.5\n",
        "assert np.round(sigmoid(7),8) == 0.99908895\n",
        "assert np.round(sigmoid(-1),8) == 0.26894142"
      ]
    },
    {
      "cell_type": "markdown",
      "metadata": {
        "id": "me6s5zNfkEEy"
      },
      "source": [
        "**B2:** Υλοποιήστε κλάση για τον αλγόριθμο της λογιστικής παλινδρόμησης. Αρχικοποιήστε τις παραμέτρους σε μηδενικές τιμές. Αποθηκεύστε τες στο διάνυσμα στήλη theta. Η συνάρτηση fit πρέπει να δέχεται πίνακα X με τις τιμές των μεταβλητών εισόδου και διάνυσμα στήλη y με τις τιμές της μεταβλητής εξόδου. Η συνάρτηση predict πρέπει να δέχεται πίνακα Χ με τις τιμές των μεταβλητών εισόδου. Ακολουθούν τεστ ορθής λειτουργίας των συναρτήσεων."
      ]
    },
    {
      "cell_type": "code",
      "execution_count": null,
      "metadata": {
        "deletable": false,
        "id": "D9s0g4DHkEEy",
        "nbgrader": {
          "cell_type": "code",
          "checksum": "0875eb2ff3083c0d5a365dfe1d72f3af",
          "grade": false,
          "grade_id": "cell-9df008253a524001",
          "locked": false,
          "schema_version": 3,
          "solution": true,
          "task": false
        }
      },
      "outputs": [],
      "source": [
        "class MyLogisticRegression:\n",
        "    def __init__(self, num_iterations=2000, learning_rate=0.004):\n",
        "      self.theta = None\n",
        "      self.num_iterations = num_iterations\n",
        "      self.learning_rate = learning_rate\n",
        "\n",
        "    def fit(self, X, y):\n",
        "        # YOUR CODE HERE\n",
        "\n",
        "        print(X.shape)\n",
        "        X = np.concatenate((np.ones((X.shape[0],1)), X), axis=1) #here the arguments for np.ones() are the number of rows equal to\n",
        "                                                                # data points = X.shape[0] and columns equal to 1. We do this to add the x0 parameter\n",
        "        y = np.array(y).reshape(-1,1) #vectorize the target variable into a column vector\n",
        "\n",
        "        n = X.shape[1] - 1\n",
        "        print(\"N is equal to:{} \\n\".format(n))\n",
        "\n",
        "        self.theta = np.zeros((n+1, 1))\n",
        "        print(self.theta.shape)\n",
        "\n",
        "        for _ in range(self.num_iterations):\n",
        "            self.theta = self.theta - self.learning_rate*(1/X.shape[0])*(X.T @ (sigmoid(X @ self.theta) - y))\n",
        "\n",
        "\n",
        "        cost = -(1/X.shape[0])*np.sum(y*(np.log(sigmoid(X @ self.theta)))+(1-y)*(np.log(1-sigmoid(X @ self.theta))))\n",
        "        print(cost)\n",
        "\n",
        "        print(self.theta)\n",
        "        print(self.theta.shape)\n",
        "\n",
        "        return(self.theta)\n",
        "        raise NotImplementedError()\n",
        "\n",
        "    def predict(self, X):\n",
        "        # YOUR CODE HERE\n",
        "\n",
        "        print(\"X shape is {}\\n\" .format(X.shape))\n",
        "        X = np.concatenate((np.ones((X.shape[0],1)), X), axis=1)\n",
        "        print(\"X shape is {}\\n\" .format(X.shape))\n",
        "\n",
        "        y = np.zeros((X.shape[0]))\n",
        "\n",
        "        print(\"y shape is {}\\n\". format(y.shape))\n",
        "\n",
        "\n",
        "        for i in range(0, X.shape[0]):\n",
        "\n",
        "          # Every row of X has dimensions (1, 4) in order to multiply this with Theta Transpose which has dimensions (1, 4)\n",
        "          # we must reshape every row of X with dimensions  (4, 1), multiplication of (1, 4) @ (4, 1) will give a result with dimensions (1, 1)\n",
        "          temp = np.array(X[i,:]).reshape(-1,1)\n",
        "\n",
        "          print(\"temp shape is {}\\n\" .format(temp.shape))\n",
        "          print(\"self.theta shape is {}\\n\" .format(self.theta.shape))\n",
        "          print(\"self.theta inverse shape is {}\\n\" .format(self.theta.T.shape))\n",
        "\n",
        "          prob = self.theta.T @ temp\n",
        "          print(\"prob shape is {}\\n\" .format(prob.shape))\n",
        "\n",
        "          print(\"Prob is {}\\n\".format(prob))\n",
        "          if(prob >=0):\n",
        "            y[i] = 1\n",
        "          else:\n",
        "            y[i] = 0\n",
        "          print(y[i])\n",
        "\n",
        "        print(\"y whole vector {} \\n\". format(y))\n",
        "\n",
        "        #reshaping y into a column vector for the given testing purposes\n",
        "        tmp = np.array(y).reshape(-1,1)\n",
        "        y = tmp\n",
        "\n",
        "        print(\"end\")\n",
        "        return(y)\n",
        "        raise NotImplementedError()\n"
      ]
    },
    {
      "cell_type": "code",
      "execution_count": null,
      "metadata": {
        "colab": {
          "base_uri": "https://localhost:8080/"
        },
        "deletable": false,
        "editable": false,
        "id": "u63aujbVkEEy",
        "nbgrader": {
          "cell_type": "code",
          "checksum": "68c608c214ab39f6197a28f8dd2dda0e",
          "grade": true,
          "grade_id": "cell-af8b565ded602dc1",
          "locked": true,
          "points": 25,
          "schema_version": 3,
          "solution": false,
          "task": false
        },
        "outputId": "2920be51-ffdb-4253-8b8e-0573b80a72af"
      },
      "outputs": [
        {
          "name": "stdout",
          "output_type": "stream",
          "text": [
            "(200, 3)\n",
            "N is equal to:3 \n",
            "\n",
            "(4, 1)\n",
            "0.1865579290736046\n",
            "[[-1.1772064 ]\n",
            " [ 0.5026043 ]\n",
            " [ 0.40811666]\n",
            " [ 0.55685573]]\n",
            "(4, 1)\n"
          ]
        }
      ],
      "source": [
        "\"\"\"Τεστ ορθής λειτουργίας fit\"\"\"\n",
        "from sklearn.datasets import make_blobs\n",
        "\n",
        "# δημιουργία δύο ομάδων από τυχαία σημεία με κέντρο 0,0,0 και 3,3,3 και τυπική απόκλιση 1\n",
        "centers = [[0.0, 0.0, 0.0], [3.0, 3.0, 3.0]]\n",
        "X, y = make_blobs(n_samples=200, centers=centers,\n",
        "                  random_state=47, shuffle=False)\n",
        "y = np.array(y).reshape(-1,1)\n",
        "\n",
        "lr = MyLogisticRegression()\n",
        "lr.fit(X, y)\n",
        "\n",
        "assert np.allclose(lr.theta, np.array([[-1.1772064],[0.5026043],[0.40811666],[0.55685573]]))"
      ]
    },
    {
      "cell_type": "code",
      "execution_count": null,
      "metadata": {
        "colab": {
          "base_uri": "https://localhost:8080/"
        },
        "deletable": false,
        "editable": false,
        "id": "qX1vcwNokEEy",
        "nbgrader": {
          "cell_type": "code",
          "checksum": "e81990c6c217da1709ddd0caceeae095",
          "grade": true,
          "grade_id": "cell-e66896ed86d1a7ce",
          "locked": true,
          "points": 25,
          "schema_version": 3,
          "solution": false,
          "task": false
        },
        "outputId": "4d0c3c4e-1cbb-4188-a0b9-7174c88692e4"
      },
      "outputs": [
        {
          "name": "stdout",
          "output_type": "stream",
          "text": [
            "(200, 3)\n",
            "N is equal to:3 \n",
            "\n",
            "(4, 1)\n",
            "0.1865579290736046\n",
            "[[-1.1772064 ]\n",
            " [ 0.5026043 ]\n",
            " [ 0.40811666]\n",
            " [ 0.55685573]]\n",
            "(4, 1)\n",
            "X shape is (2, 3)\n",
            "\n",
            "X shape is (2, 4)\n",
            "\n",
            "y shape is (2,)\n",
            "\n",
            "temp shape is (4, 1)\n",
            "\n",
            "self.theta shape is (4, 1)\n",
            "\n",
            "self.theta inverse shape is (1, 4)\n",
            "\n",
            "prob shape is (1, 1)\n",
            "\n",
            "Prob is [[-0.55580696]]\n",
            "\n",
            "0.0\n",
            "temp shape is (4, 1)\n",
            "\n",
            "self.theta shape is (4, 1)\n",
            "\n",
            "self.theta inverse shape is (1, 4)\n",
            "\n",
            "prob shape is (1, 1)\n",
            "\n",
            "Prob is [[2.82291105]]\n",
            "\n",
            "1.0\n",
            "y whole vector [0. 1.] \n",
            "\n",
            "end\n"
          ]
        }
      ],
      "source": [
        "\"\"\"Τεστ ορθής λειτουργίας predict\"\"\"\n",
        "from sklearn.datasets import make_blobs\n",
        "\n",
        "# δημιουργία δύο ομάδων από τυχαία σημεία με κέντρο 0,0,0 και 3,3,3 και τυπική απόκλιση 1\n",
        "centers = [[0.0, 0.0, 0.0], [3.0, 3.0, 3.0]]\n",
        "X, y = make_blobs(n_samples=200, centers=centers,\n",
        "                  random_state=47, shuffle=False)\n",
        "y = np.array(y).reshape(-1,1)\n",
        "\n",
        "lr = MyLogisticRegression()\n",
        "lr.fit(X, y)\n",
        "\n",
        "assert np.allclose(lr.predict(X[[0,199],:]), np.array([[0],[1]]))"
      ]
    },
    {
      "cell_type": "markdown",
      "metadata": {
        "id": "BXxNnpXBkEEy"
      },
      "source": [
        "## Μέρος Γ: Ομαλοποίηση (3 μονάδες)\n",
        "\n",
        "**Γ1:** Υλοποιήστε κλάση για τον αλγόριθμο της λογιστικής παλινδρόμησης που να υποστηρίζει και ομαλοποίηση L1 και L2. Αρχικοποιήστε τις παραμέτρους σε μηδενικές τιμές. Αποθηκεύστε τες στο διάνυσμα στήλη theta. Η συνάρτηση fit πρέπει να δέχεται πίνακα X με τις τιμές των μεταβλητών εισόδου και διάνυσμα στήλη y με τις τιμές της μεταβλητής εξόδου. Ακολουθούν τεστ ορθής λειτουργίας."
      ]
    },
    {
      "cell_type": "code",
      "execution_count": null,
      "metadata": {
        "deletable": false,
        "id": "k_2FAuWKkEEy",
        "nbgrader": {
          "cell_type": "code",
          "checksum": "e520ffd85a225409ee0103faedb42018",
          "grade": false,
          "grade_id": "cell-8f651a74aaad362c",
          "locked": false,
          "schema_version": 3,
          "solution": true,
          "task": false
        }
      },
      "outputs": [],
      "source": [
        "class MyLogisticRegression:\n",
        "    def __init__(self, num_iterations=2000, learning_rate=0.004, penalty=\"None\", l=10):\n",
        "        self.theta = None\n",
        "        self.num_iterations = num_iterations\n",
        "        self.learning_rate = learning_rate\n",
        "        self.penalty = penalty\n",
        "        self.l = l\n",
        "\n",
        "    def fit(self, X, y):\n",
        "        # YOUR CODE HERE\n",
        "        if(self.penalty == \"L2\"):\n",
        "          a = self.l / (2 * X.shape[0])\n",
        "        elif(self.penalty == \"L1\"):\n",
        "          a = self.l / (X.shape[0])\n",
        "\n",
        "        X = np.concatenate((np.ones((X.shape[0],1)), X), axis=1) #here the arguments for np.ones() are the number of rows equal to\n",
        "                                                                # data points = X.shape[0] and columns equal to 1. We do this to add the x0 parameter\n",
        "        y = np.array(y).reshape(-1,1) #vectorize the target variable into a column vector\n",
        "\n",
        "        n = X.shape[1] - 1\n",
        "\n",
        "        #in this case we dont calculate theta throught algebraic notations, as we need to include the parameter (L2 or L1) to penalize outlier values\n",
        "        self.theta = np.zeros(n+1)\n",
        "        for _ in range(self.num_iterations):\n",
        "          theta_temp = self.theta.copy()\n",
        "          update = np.zeros(n+1)\n",
        "          for i in range(X.shape[0]):\n",
        "              error = sigmoid(theta_temp.dot(X[i]))-y[i][0]\n",
        "\n",
        "              if(self.penalty == \"L2\"):\n",
        "                for j in range(n+1):\n",
        "                  if(j == 0):\n",
        "                    update[j] += error*X[i][j]\n",
        "                  else:\n",
        "                    update[j] += error*X[i][j] + (2 * a * self.theta[j])\n",
        "              elif(self.penalty == \"L1\"):\n",
        "                for j in range(n+1):\n",
        "                  if(j == 0):\n",
        "                    update[j] += error*X[i][j]\n",
        "                  else:\n",
        "                    update[j] += error*X[i][j]  + (a * (np.sign(self.theta[j])))\n",
        "              else:\n",
        "                for j in range(n+1):\n",
        "                  update[j] += error*X[i][j]\n",
        "          for j in range(n+1):\n",
        "            self.theta[j] = self.theta[j] - self.learning_rate*(1/X.shape[0])*update[j]\n",
        "\n",
        "        cost = 0\n",
        "        for i in range(X.shape[0]):\n",
        "          cost += -(1/X.shape[0])*(y[i][0]*(np.log(sigmoid(self.theta.dot(X[i]))))+(1-y[i][0])*(np.log(1-sigmoid(self.theta.dot(X[i])))))\n",
        "        print(cost)\n",
        "\n",
        "        print(self.theta)\n",
        "        print(self.theta.shape)\n",
        "        #necessary reshaping of self.theta into a column vector for testing purposes\n",
        "        res = np.array(self.theta).reshape(-1,1)\n",
        "        self.theta = res\n",
        "\n",
        "        return(self.theta)\n",
        "        raise NotImplementedError()\n",
        "\n",
        "    def predict(self, X):\n",
        "        # YOUR CODE HERE\n",
        "        X = np.concatenate((np.ones((X.shape[0],1)), X), axis=1)\n",
        "\n",
        "        y = np.zeros((X.shape[0]))\n",
        "\n",
        "        for i in range(0, X.shape[0]):\n",
        "\n",
        "          temp = np.array(X[i,:]).reshape(-1,1)\n",
        "\n",
        "          prob = self.theta.T @ temp\n",
        "\n",
        "          if(prob >=0):\n",
        "            y[i] = 1\n",
        "          else:\n",
        "            y[i] = 0\n",
        "\n",
        "        tmp = np.array(y).reshape(-1,1)\n",
        "        y = tmp\n",
        "\n",
        "        return(y)\n",
        "        raise NotImplementedError()\n"
      ]
    },
    {
      "cell_type": "code",
      "execution_count": null,
      "metadata": {
        "deletable": false,
        "editable": false,
        "id": "ab2owl43kEEz",
        "nbgrader": {
          "cell_type": "code",
          "checksum": "d70ebce991c727ab84b46be8a9d5a112",
          "grade": true,
          "grade_id": "cell-7b4a1e422511b0dd",
          "locked": true,
          "points": 15,
          "schema_version": 3,
          "solution": false,
          "task": false
        }
      },
      "outputs": [],
      "source": [
        "\"\"\"Τεστ ορθής λειτουργίας fit L2\"\"\"\n",
        "from sklearn.datasets import make_blobs\n",
        "\n",
        "# δημιουργία δύο ομάδων από τυχαία σημεία με κέντρο 0,0,0 και 3,3,3 και τυπική απόκλιση 1\n",
        "centers = [[0.0, 0.0, 0.0], [3.0, 3.0, 3.0]]\n",
        "X, y = make_blobs(n_samples=200, centers=centers,\n",
        "                  random_state=47, shuffle=False)\n",
        "y = np.array(y).reshape(-1,1)\n",
        "\n",
        "lr = MyLogisticRegression(penalty=\"L2\", l=10)\n",
        "lr.fit(X, y)\n",
        "assert np.allclose(lr.theta, np.array([[-1.148294],[0.46202407],[0.38788976],[0.50990465]]))\n",
        "lr = MyLogisticRegression(penalty=\"L2\", l=100)\n",
        "lr.fit(X, y)\n",
        "assert np.allclose(lr.theta, np.array([[-0.95841014],[0.30961435],[0.29482345],[0.33574242]]))"
      ]
    },
    {
      "cell_type": "code",
      "execution_count": null,
      "metadata": {
        "colab": {
          "base_uri": "https://localhost:8080/"
        },
        "deletable": false,
        "editable": false,
        "id": "pQx38pwvkEEz",
        "nbgrader": {
          "cell_type": "code",
          "checksum": "d6bf7bd93c289ed97809b1a9be7ec6dc",
          "grade": true,
          "grade_id": "cell-2e2aab6691a11043",
          "locked": true,
          "points": 15,
          "schema_version": 3,
          "solution": false,
          "task": false
        },
        "outputId": "7fdaa14f-6032-4495-b37b-d9e5eabe60fb"
      },
      "outputs": [
        {
          "name": "stdout",
          "output_type": "stream",
          "text": [
            "0.46775348291688923\n",
            "[-0.39128777  0.07264989  0.06445718  0.2047192 ]\n",
            "(4,)\n"
          ]
        }
      ],
      "source": [
        "\"\"\"Τεστ ορθής λειτουργίας fit L1\"\"\"\n",
        "from sklearn.datasets import make_blobs\n",
        "\n",
        "# δημιουργία δύο ομάδων από τυχαία σημεία με κέντρο 0,0,0 και 3,3,3 και τυπική απόκλιση 1\n",
        "centers = [[0.0, 0.0, 0.0], [3.0, 3.0, 3.0]]\n",
        "X, y = make_blobs(n_samples=200, centers=centers,\n",
        "                  random_state=47, shuffle=False)\n",
        "y = np.array(y).reshape(-1,1)\n",
        "\n",
        "lr = MyLogisticRegression(penalty=\"L1\", l=100)\n",
        "lr.fit(X, y)\n",
        "assert np.allclose(lr.theta, np.array([[-0.39128777],[0.07264989],[0.06445718],[0.2047192]]))"
      ]
    }
  ],
  "metadata": {
    "colab": {
      "provenance": []
    },
    "kernelspec": {
      "display_name": "Python 3 (ipykernel)",
      "language": "python",
      "name": "python3"
    },
    "language_info": {
      "codemirror_mode": {
        "name": "ipython",
        "version": 3
      },
      "file_extension": ".py",
      "mimetype": "text/x-python",
      "name": "python",
      "nbconvert_exporter": "python",
      "pygments_lexer": "ipython3",
      "version": "3.10.12"
    }
  },
  "nbformat": 4,
  "nbformat_minor": 0
}
